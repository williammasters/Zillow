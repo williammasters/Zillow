{
 "cells": [
  {
   "cell_type": "markdown",
   "metadata": {},
   "source": [
    "# Zillow machine learning algorithm\n",
    "\n",
    "This project aims to predict zillow housing price estimates. It will utilize the pandas and Scikit-learn packages from python 3.6 to attempt to create a better algorithm than Zillow already has implemented. The data was distributed from Zillow via kaggle.com \n",
    "\n",
    "main packages: Pandas, numpy, Sklearn, and matplotlib"
   ]
  },
  {
   "cell_type": "code",
   "execution_count": 1,
   "metadata": {
    "collapsed": true
   },
   "outputs": [],
   "source": [
    "#time script\n",
    "from datetime import datetime\n",
    "startTime = datetime.now()"
   ]
  },
  {
   "cell_type": "code",
   "execution_count": 2,
   "metadata": {
    "collapsed": true,
    "scrolled": true
   },
   "outputs": [],
   "source": [
    "import pandas as pd\n",
    "import numpy as np\n",
    "from sklearn.decomposition import PCA\n",
    "from sklearn.ensemble import RandomForestRegressor\n",
    "from sklearn.feature_selection import RFE\n",
    "from sklearn.model_selection import RandomizedSearchCV\n",
    "from time import time\n",
    "from scipy.stats import randint as sp_randint\n",
    "import matplotlib.pyplot as plt\n",
    "%matplotlib inline"
   ]
  },
  {
   "cell_type": "code",
   "execution_count": 3,
   "metadata": {
    "collapsed": true
   },
   "outputs": [],
   "source": [
    "raw_results=pd.read_csv('C:/Users/Will/Documents/Regis/MSDS692/train_2016_v2.csv/train_2016_v2.csv')\n",
    "raw_properties=pd.read_csv('C:/Users/Will/Documents/Regis/MSDS692/properties_2016.csv/properties_2016.csv',low_memory=False)"
   ]
  },
  {
   "cell_type": "code",
   "execution_count": 4,
   "metadata": {},
   "outputs": [
    {
     "name": "stdout",
     "output_type": "stream",
     "text": [
      "2985217\n"
     ]
    }
   ],
   "source": [
    "raw_properties_combined=raw_properties.merge(raw_results,how='inner',on='parcelid')\n",
    "print(len(raw_properties))"
   ]
  },
  {
   "cell_type": "markdown",
   "metadata": {},
   "source": [
    "## Feature engineering for training  \n",
    "Will extract month from transaction date to use for training, saw some improvement with this feature."
   ]
  },
  {
   "cell_type": "code",
   "execution_count": 5,
   "metadata": {
    "collapsed": true
   },
   "outputs": [],
   "source": [
    "dates=pd.to_datetime(raw_properties_combined['transactiondate'])\n",
    "#dates.head(n=5)\n",
    "raw_properties_combined['Month']=dates.dt.month"
   ]
  },
  {
   "cell_type": "markdown",
   "metadata": {},
   "source": [
    "## Model type\n",
    "\n",
    "The zillow model is defined as the log of the zillow estimate to the log of the actual sale price, the competition is to determine what the computed error will be. This can be seen below. An initial challenge of this project is that the sale date can not be used as an input, where a forecasted multiplier might be useful, however the date of transactions is useful. The training data set contains 90K transactions, for model testing this will be broken into a random sample based on a 70:30 split."
   ]
  },
  {
   "cell_type": "code",
   "execution_count": 6,
   "metadata": {},
   "outputs": [
    {
     "data": {
      "text/plain": [
       "90275"
      ]
     },
     "execution_count": 6,
     "metadata": {},
     "output_type": "execute_result"
    }
   ],
   "source": [
    "raw_results.head(n=5)\n",
    "len(raw_results)"
   ]
  },
  {
   "cell_type": "code",
   "execution_count": 7,
   "metadata": {},
   "outputs": [
    {
     "data": {
      "text/html": [
       "<div>\n",
       "<style>\n",
       "    .dataframe thead tr:only-child th {\n",
       "        text-align: right;\n",
       "    }\n",
       "\n",
       "    .dataframe thead th {\n",
       "        text-align: left;\n",
       "    }\n",
       "\n",
       "    .dataframe tbody tr th {\n",
       "        vertical-align: top;\n",
       "    }\n",
       "</style>\n",
       "<table border=\"1\" class=\"dataframe\">\n",
       "  <thead>\n",
       "    <tr style=\"text-align: right;\">\n",
       "      <th></th>\n",
       "      <th>parcelid</th>\n",
       "      <th>airconditioningtypeid</th>\n",
       "      <th>architecturalstyletypeid</th>\n",
       "      <th>basementsqft</th>\n",
       "      <th>bathroomcnt</th>\n",
       "      <th>bedroomcnt</th>\n",
       "      <th>buildingclasstypeid</th>\n",
       "      <th>buildingqualitytypeid</th>\n",
       "      <th>calculatedbathnbr</th>\n",
       "      <th>decktypeid</th>\n",
       "      <th>...</th>\n",
       "      <th>numberofstories</th>\n",
       "      <th>fireplaceflag</th>\n",
       "      <th>structuretaxvaluedollarcnt</th>\n",
       "      <th>taxvaluedollarcnt</th>\n",
       "      <th>assessmentyear</th>\n",
       "      <th>landtaxvaluedollarcnt</th>\n",
       "      <th>taxamount</th>\n",
       "      <th>taxdelinquencyflag</th>\n",
       "      <th>taxdelinquencyyear</th>\n",
       "      <th>censustractandblock</th>\n",
       "    </tr>\n",
       "  </thead>\n",
       "  <tbody>\n",
       "    <tr>\n",
       "      <th>0</th>\n",
       "      <td>10754147</td>\n",
       "      <td>NaN</td>\n",
       "      <td>NaN</td>\n",
       "      <td>NaN</td>\n",
       "      <td>0.0</td>\n",
       "      <td>0.0</td>\n",
       "      <td>NaN</td>\n",
       "      <td>NaN</td>\n",
       "      <td>NaN</td>\n",
       "      <td>NaN</td>\n",
       "      <td>...</td>\n",
       "      <td>NaN</td>\n",
       "      <td>NaN</td>\n",
       "      <td>NaN</td>\n",
       "      <td>9.0</td>\n",
       "      <td>2015.0</td>\n",
       "      <td>9.0</td>\n",
       "      <td>NaN</td>\n",
       "      <td>NaN</td>\n",
       "      <td>NaN</td>\n",
       "      <td>NaN</td>\n",
       "    </tr>\n",
       "    <tr>\n",
       "      <th>1</th>\n",
       "      <td>10759547</td>\n",
       "      <td>NaN</td>\n",
       "      <td>NaN</td>\n",
       "      <td>NaN</td>\n",
       "      <td>0.0</td>\n",
       "      <td>0.0</td>\n",
       "      <td>NaN</td>\n",
       "      <td>NaN</td>\n",
       "      <td>NaN</td>\n",
       "      <td>NaN</td>\n",
       "      <td>...</td>\n",
       "      <td>NaN</td>\n",
       "      <td>NaN</td>\n",
       "      <td>NaN</td>\n",
       "      <td>27516.0</td>\n",
       "      <td>2015.0</td>\n",
       "      <td>27516.0</td>\n",
       "      <td>NaN</td>\n",
       "      <td>NaN</td>\n",
       "      <td>NaN</td>\n",
       "      <td>NaN</td>\n",
       "    </tr>\n",
       "    <tr>\n",
       "      <th>2</th>\n",
       "      <td>10843547</td>\n",
       "      <td>NaN</td>\n",
       "      <td>NaN</td>\n",
       "      <td>NaN</td>\n",
       "      <td>0.0</td>\n",
       "      <td>0.0</td>\n",
       "      <td>NaN</td>\n",
       "      <td>NaN</td>\n",
       "      <td>NaN</td>\n",
       "      <td>NaN</td>\n",
       "      <td>...</td>\n",
       "      <td>NaN</td>\n",
       "      <td>NaN</td>\n",
       "      <td>650756.0</td>\n",
       "      <td>1413387.0</td>\n",
       "      <td>2015.0</td>\n",
       "      <td>762631.0</td>\n",
       "      <td>20800.37</td>\n",
       "      <td>NaN</td>\n",
       "      <td>NaN</td>\n",
       "      <td>NaN</td>\n",
       "    </tr>\n",
       "    <tr>\n",
       "      <th>3</th>\n",
       "      <td>10859147</td>\n",
       "      <td>NaN</td>\n",
       "      <td>NaN</td>\n",
       "      <td>NaN</td>\n",
       "      <td>0.0</td>\n",
       "      <td>0.0</td>\n",
       "      <td>3.0</td>\n",
       "      <td>7.0</td>\n",
       "      <td>NaN</td>\n",
       "      <td>NaN</td>\n",
       "      <td>...</td>\n",
       "      <td>1.0</td>\n",
       "      <td>NaN</td>\n",
       "      <td>571346.0</td>\n",
       "      <td>1156834.0</td>\n",
       "      <td>2015.0</td>\n",
       "      <td>585488.0</td>\n",
       "      <td>14557.57</td>\n",
       "      <td>NaN</td>\n",
       "      <td>NaN</td>\n",
       "      <td>NaN</td>\n",
       "    </tr>\n",
       "    <tr>\n",
       "      <th>4</th>\n",
       "      <td>10879947</td>\n",
       "      <td>NaN</td>\n",
       "      <td>NaN</td>\n",
       "      <td>NaN</td>\n",
       "      <td>0.0</td>\n",
       "      <td>0.0</td>\n",
       "      <td>4.0</td>\n",
       "      <td>NaN</td>\n",
       "      <td>NaN</td>\n",
       "      <td>NaN</td>\n",
       "      <td>...</td>\n",
       "      <td>NaN</td>\n",
       "      <td>NaN</td>\n",
       "      <td>193796.0</td>\n",
       "      <td>433491.0</td>\n",
       "      <td>2015.0</td>\n",
       "      <td>239695.0</td>\n",
       "      <td>5725.17</td>\n",
       "      <td>NaN</td>\n",
       "      <td>NaN</td>\n",
       "      <td>NaN</td>\n",
       "    </tr>\n",
       "  </tbody>\n",
       "</table>\n",
       "<p>5 rows × 58 columns</p>\n",
       "</div>"
      ],
      "text/plain": [
       "   parcelid  airconditioningtypeid  architecturalstyletypeid  basementsqft  \\\n",
       "0  10754147                    NaN                       NaN           NaN   \n",
       "1  10759547                    NaN                       NaN           NaN   \n",
       "2  10843547                    NaN                       NaN           NaN   \n",
       "3  10859147                    NaN                       NaN           NaN   \n",
       "4  10879947                    NaN                       NaN           NaN   \n",
       "\n",
       "   bathroomcnt  bedroomcnt  buildingclasstypeid  buildingqualitytypeid  \\\n",
       "0          0.0         0.0                  NaN                    NaN   \n",
       "1          0.0         0.0                  NaN                    NaN   \n",
       "2          0.0         0.0                  NaN                    NaN   \n",
       "3          0.0         0.0                  3.0                    7.0   \n",
       "4          0.0         0.0                  4.0                    NaN   \n",
       "\n",
       "   calculatedbathnbr  decktypeid         ...           numberofstories  \\\n",
       "0                NaN         NaN         ...                       NaN   \n",
       "1                NaN         NaN         ...                       NaN   \n",
       "2                NaN         NaN         ...                       NaN   \n",
       "3                NaN         NaN         ...                       1.0   \n",
       "4                NaN         NaN         ...                       NaN   \n",
       "\n",
       "   fireplaceflag  structuretaxvaluedollarcnt  taxvaluedollarcnt  \\\n",
       "0            NaN                         NaN                9.0   \n",
       "1            NaN                         NaN            27516.0   \n",
       "2            NaN                    650756.0          1413387.0   \n",
       "3            NaN                    571346.0          1156834.0   \n",
       "4            NaN                    193796.0           433491.0   \n",
       "\n",
       "   assessmentyear  landtaxvaluedollarcnt  taxamount  taxdelinquencyflag  \\\n",
       "0          2015.0                    9.0        NaN                 NaN   \n",
       "1          2015.0                27516.0        NaN                 NaN   \n",
       "2          2015.0               762631.0   20800.37                 NaN   \n",
       "3          2015.0               585488.0   14557.57                 NaN   \n",
       "4          2015.0               239695.0    5725.17                 NaN   \n",
       "\n",
       "   taxdelinquencyyear  censustractandblock  \n",
       "0                 NaN                  NaN  \n",
       "1                 NaN                  NaN  \n",
       "2                 NaN                  NaN  \n",
       "3                 NaN                  NaN  \n",
       "4                 NaN                  NaN  \n",
       "\n",
       "[5 rows x 58 columns]"
      ]
     },
     "execution_count": 7,
     "metadata": {},
     "output_type": "execute_result"
    }
   ],
   "source": [
    "raw_properties.head(n=5)"
   ]
  },
  {
   "cell_type": "markdown",
   "metadata": {},
   "source": [
    "## Data Set Initial Challenges\n",
    "\n",
    "Many features are missing for most of the properties. The first attempt at this model will be to remove any feature which does not have at least 90% of the values. Some imputation will be attempted on those values, and then depending on the outcome more of the low count observations will be removed. "
   ]
  },
  {
   "cell_type": "code",
   "execution_count": 8,
   "metadata": {},
   "outputs": [
    {
     "data": {
      "text/plain": [
       "parcelid                        0.000000\n",
       "airconditioningtypeid           0.681185\n",
       "architecturalstyletypeid        0.997109\n",
       "basementsqft                    0.999524\n",
       "bathroomcnt                     0.000000\n",
       "bedroomcnt                      0.000000\n",
       "buildingclasstypeid             0.999823\n",
       "buildingqualitytypeid           0.364564\n",
       "calculatedbathnbr               0.013093\n",
       "decktypeid                      0.992711\n",
       "finishedfloor1squarefeet        0.924054\n",
       "calculatedfinishedsquarefeet    0.007322\n",
       "finishedsquarefeet12            0.051831\n",
       "finishedsquarefeet13            0.999634\n",
       "finishedsquarefeet15            0.960521\n",
       "finishedsquarefeet50            0.924054\n",
       "finishedsquarefeet6             0.995336\n",
       "fips                            0.000000\n",
       "fireplacecnt                    0.893581\n",
       "fullbathcnt                     0.013093\n",
       "garagecarcnt                    0.668380\n",
       "garagetotalsqft                 0.668380\n",
       "hashottuborspa                  0.973802\n",
       "heatingorsystemtypeid           0.378787\n",
       "latitude                        0.000000\n",
       "longitude                       0.000000\n",
       "lotsizesquarefeet               0.112434\n",
       "poolcnt                         0.801706\n",
       "poolsizesum                     0.989266\n",
       "pooltypeid10                    0.987139\n",
       "                                  ...   \n",
       "pooltypeid7                     0.815043\n",
       "propertycountylandusecode       0.000011\n",
       "propertylandusetypeid           0.000000\n",
       "propertyzoningdesc              0.354052\n",
       "rawcensustractandblock          0.000000\n",
       "regionidcity                    0.019972\n",
       "regionidcounty                  0.000000\n",
       "regionidneighborhood            0.601086\n",
       "regionidzip                     0.000388\n",
       "roomcnt                         0.000000\n",
       "storytypeid                     0.999524\n",
       "threequarterbathnbr             0.866973\n",
       "typeconstructiontypeid          0.996688\n",
       "unitcnt                         0.353608\n",
       "yardbuildingsqft17              0.970690\n",
       "yardbuildingsqft26              0.998948\n",
       "yearbuilt                       0.008374\n",
       "numberofstories                 0.772141\n",
       "fireplaceflag                   0.997541\n",
       "structuretaxvaluedollarcnt      0.004209\n",
       "taxvaluedollarcnt               0.000011\n",
       "assessmentyear                  0.000000\n",
       "landtaxvaluedollarcnt           0.000011\n",
       "taxamount                       0.000066\n",
       "taxdelinquencyflag              0.980249\n",
       "taxdelinquencyyear              0.980249\n",
       "censustractandblock             0.006702\n",
       "logerror                        0.000000\n",
       "transactiondate                 0.000000\n",
       "Month                           0.000000\n",
       "Length: 61, dtype: float64"
      ]
     },
     "execution_count": 8,
     "metadata": {},
     "output_type": "execute_result"
    }
   ],
   "source": [
    "raw_properties_combined.isnull().sum()/len(raw_properties_combined)"
   ]
  },
  {
   "cell_type": "code",
   "execution_count": 9,
   "metadata": {
    "collapsed": true
   },
   "outputs": [],
   "source": [
    "#properties90=raw_properties_combined.dropna(thresh=.1*len(raw_properties_combined),axis=1)\n",
    "properties90=raw_properties_combined\n",
    "original_set=len(properties90)"
   ]
  },
  {
   "cell_type": "markdown",
   "metadata": {
    "collapsed": true
   },
   "source": [
    "## Data imputation\n",
    "\n",
    "Missing values are imputed using the value -1"
   ]
  },
  {
   "cell_type": "code",
   "execution_count": 10,
   "metadata": {
    "collapsed": true
   },
   "outputs": [],
   "source": [
    "prop90med=pd.DataFrame(properties90.median())"
   ]
  },
  {
   "cell_type": "code",
   "execution_count": 11,
   "metadata": {},
   "outputs": [
    {
     "data": {
      "text/html": [
       "<div>\n",
       "<style>\n",
       "    .dataframe thead tr:only-child th {\n",
       "        text-align: right;\n",
       "    }\n",
       "\n",
       "    .dataframe thead th {\n",
       "        text-align: left;\n",
       "    }\n",
       "\n",
       "    .dataframe tbody tr th {\n",
       "        vertical-align: top;\n",
       "    }\n",
       "</style>\n",
       "<table border=\"1\" class=\"dataframe\">\n",
       "  <thead>\n",
       "    <tr style=\"text-align: right;\">\n",
       "      <th></th>\n",
       "      <th>parcelid</th>\n",
       "      <th>airconditioningtypeid</th>\n",
       "      <th>architecturalstyletypeid</th>\n",
       "      <th>basementsqft</th>\n",
       "      <th>bathroomcnt</th>\n",
       "      <th>bedroomcnt</th>\n",
       "      <th>buildingclasstypeid</th>\n",
       "      <th>buildingqualitytypeid</th>\n",
       "      <th>calculatedbathnbr</th>\n",
       "      <th>decktypeid</th>\n",
       "      <th>...</th>\n",
       "      <th>numberofstories</th>\n",
       "      <th>structuretaxvaluedollarcnt</th>\n",
       "      <th>taxvaluedollarcnt</th>\n",
       "      <th>assessmentyear</th>\n",
       "      <th>landtaxvaluedollarcnt</th>\n",
       "      <th>taxamount</th>\n",
       "      <th>taxdelinquencyyear</th>\n",
       "      <th>censustractandblock</th>\n",
       "      <th>logerror</th>\n",
       "      <th>Month</th>\n",
       "    </tr>\n",
       "  </thead>\n",
       "  <tbody>\n",
       "    <tr>\n",
       "      <th>0</th>\n",
       "      <td>17073783</td>\n",
       "      <td>-1.0</td>\n",
       "      <td>-1.0</td>\n",
       "      <td>-1.0</td>\n",
       "      <td>2.5</td>\n",
       "      <td>3.0</td>\n",
       "      <td>-1.0</td>\n",
       "      <td>-1.0</td>\n",
       "      <td>2.5</td>\n",
       "      <td>-1.0</td>\n",
       "      <td>...</td>\n",
       "      <td>2.0</td>\n",
       "      <td>115087.0</td>\n",
       "      <td>191811.0</td>\n",
       "      <td>2015.0</td>\n",
       "      <td>76724.0</td>\n",
       "      <td>2015.06</td>\n",
       "      <td>-1.0</td>\n",
       "      <td>6.111002e+13</td>\n",
       "      <td>0.0953</td>\n",
       "      <td>1</td>\n",
       "    </tr>\n",
       "    <tr>\n",
       "      <th>1</th>\n",
       "      <td>17088994</td>\n",
       "      <td>-1.0</td>\n",
       "      <td>-1.0</td>\n",
       "      <td>-1.0</td>\n",
       "      <td>1.0</td>\n",
       "      <td>2.0</td>\n",
       "      <td>-1.0</td>\n",
       "      <td>-1.0</td>\n",
       "      <td>1.0</td>\n",
       "      <td>-1.0</td>\n",
       "      <td>...</td>\n",
       "      <td>1.0</td>\n",
       "      <td>143809.0</td>\n",
       "      <td>239679.0</td>\n",
       "      <td>2015.0</td>\n",
       "      <td>95870.0</td>\n",
       "      <td>2581.30</td>\n",
       "      <td>-1.0</td>\n",
       "      <td>6.111002e+13</td>\n",
       "      <td>0.0198</td>\n",
       "      <td>3</td>\n",
       "    </tr>\n",
       "    <tr>\n",
       "      <th>2</th>\n",
       "      <td>17100444</td>\n",
       "      <td>-1.0</td>\n",
       "      <td>-1.0</td>\n",
       "      <td>-1.0</td>\n",
       "      <td>2.0</td>\n",
       "      <td>3.0</td>\n",
       "      <td>-1.0</td>\n",
       "      <td>-1.0</td>\n",
       "      <td>2.0</td>\n",
       "      <td>-1.0</td>\n",
       "      <td>...</td>\n",
       "      <td>1.0</td>\n",
       "      <td>33619.0</td>\n",
       "      <td>47853.0</td>\n",
       "      <td>2015.0</td>\n",
       "      <td>14234.0</td>\n",
       "      <td>591.64</td>\n",
       "      <td>-1.0</td>\n",
       "      <td>6.111001e+13</td>\n",
       "      <td>0.0060</td>\n",
       "      <td>5</td>\n",
       "    </tr>\n",
       "    <tr>\n",
       "      <th>3</th>\n",
       "      <td>17102429</td>\n",
       "      <td>-1.0</td>\n",
       "      <td>-1.0</td>\n",
       "      <td>-1.0</td>\n",
       "      <td>1.5</td>\n",
       "      <td>2.0</td>\n",
       "      <td>-1.0</td>\n",
       "      <td>-1.0</td>\n",
       "      <td>1.5</td>\n",
       "      <td>-1.0</td>\n",
       "      <td>...</td>\n",
       "      <td>1.0</td>\n",
       "      <td>45609.0</td>\n",
       "      <td>62914.0</td>\n",
       "      <td>2015.0</td>\n",
       "      <td>17305.0</td>\n",
       "      <td>682.78</td>\n",
       "      <td>-1.0</td>\n",
       "      <td>6.111001e+13</td>\n",
       "      <td>-0.0566</td>\n",
       "      <td>6</td>\n",
       "    </tr>\n",
       "    <tr>\n",
       "      <th>4</th>\n",
       "      <td>17109604</td>\n",
       "      <td>-1.0</td>\n",
       "      <td>-1.0</td>\n",
       "      <td>-1.0</td>\n",
       "      <td>2.5</td>\n",
       "      <td>4.0</td>\n",
       "      <td>-1.0</td>\n",
       "      <td>-1.0</td>\n",
       "      <td>2.5</td>\n",
       "      <td>-1.0</td>\n",
       "      <td>...</td>\n",
       "      <td>2.0</td>\n",
       "      <td>277000.0</td>\n",
       "      <td>554000.0</td>\n",
       "      <td>2015.0</td>\n",
       "      <td>277000.0</td>\n",
       "      <td>5886.92</td>\n",
       "      <td>-1.0</td>\n",
       "      <td>6.111001e+13</td>\n",
       "      <td>0.0573</td>\n",
       "      <td>8</td>\n",
       "    </tr>\n",
       "  </tbody>\n",
       "</table>\n",
       "<p>5 rows × 55 columns</p>\n",
       "</div>"
      ],
      "text/plain": [
       "   parcelid  airconditioningtypeid  architecturalstyletypeid  basementsqft  \\\n",
       "0  17073783                   -1.0                      -1.0          -1.0   \n",
       "1  17088994                   -1.0                      -1.0          -1.0   \n",
       "2  17100444                   -1.0                      -1.0          -1.0   \n",
       "3  17102429                   -1.0                      -1.0          -1.0   \n",
       "4  17109604                   -1.0                      -1.0          -1.0   \n",
       "\n",
       "   bathroomcnt  bedroomcnt  buildingclasstypeid  buildingqualitytypeid  \\\n",
       "0          2.5         3.0                 -1.0                   -1.0   \n",
       "1          1.0         2.0                 -1.0                   -1.0   \n",
       "2          2.0         3.0                 -1.0                   -1.0   \n",
       "3          1.5         2.0                 -1.0                   -1.0   \n",
       "4          2.5         4.0                 -1.0                   -1.0   \n",
       "\n",
       "   calculatedbathnbr  decktypeid  ...    numberofstories  \\\n",
       "0                2.5        -1.0  ...                2.0   \n",
       "1                1.0        -1.0  ...                1.0   \n",
       "2                2.0        -1.0  ...                1.0   \n",
       "3                1.5        -1.0  ...                1.0   \n",
       "4                2.5        -1.0  ...                2.0   \n",
       "\n",
       "   structuretaxvaluedollarcnt  taxvaluedollarcnt  assessmentyear  \\\n",
       "0                    115087.0           191811.0          2015.0   \n",
       "1                    143809.0           239679.0          2015.0   \n",
       "2                     33619.0            47853.0          2015.0   \n",
       "3                     45609.0            62914.0          2015.0   \n",
       "4                    277000.0           554000.0          2015.0   \n",
       "\n",
       "   landtaxvaluedollarcnt  taxamount  taxdelinquencyyear  censustractandblock  \\\n",
       "0                76724.0    2015.06                -1.0         6.111002e+13   \n",
       "1                95870.0    2581.30                -1.0         6.111002e+13   \n",
       "2                14234.0     591.64                -1.0         6.111001e+13   \n",
       "3                17305.0     682.78                -1.0         6.111001e+13   \n",
       "4               277000.0    5886.92                -1.0         6.111001e+13   \n",
       "\n",
       "   logerror  Month  \n",
       "0    0.0953      1  \n",
       "1    0.0198      3  \n",
       "2    0.0060      5  \n",
       "3   -0.0566      6  \n",
       "4    0.0573      8  \n",
       "\n",
       "[5 rows x 55 columns]"
      ]
     },
     "execution_count": 11,
     "metadata": {},
     "output_type": "execute_result"
    }
   ],
   "source": [
    "pca_frame=properties90.select_dtypes([np.number])\n",
    "#first attempt at imputation\n",
    "#pca_frame=pca_frame.apply(lambda x: x.fillna(x.median()),axis=0)\n",
    "pca_frame=pca_frame.apply(lambda x: x.fillna(-1),axis=0)\n",
    "\n",
    "\n",
    "pca_frame.head(n=5)"
   ]
  },
  {
   "cell_type": "markdown",
   "metadata": {},
   "source": [
    "## PCA analysis"
   ]
  },
  {
   "cell_type": "code",
   "execution_count": 12,
   "metadata": {},
   "outputs": [
    {
     "name": "stdout",
     "output_type": "stream",
     "text": [
      "[  1.00000000e+00   2.57990152e-13   1.99377356e-14   6.85993510e-15\n",
      "   1.48127077e-15   1.06645819e-15   8.77016162e-16   5.83621188e-16\n",
      "   5.06032447e-16   8.81106317e-17]\n"
     ]
    }
   ],
   "source": [
    "pca_analysis=pca_frame.drop('logerror',1)\n",
    "pca = PCA(n_components=10)\n",
    "pca_r = pca.fit(pca_frame)\n",
    "print(str(pca_r.explained_variance_ratio_))\n",
    "\n"
   ]
  },
  {
   "cell_type": "markdown",
   "metadata": {},
   "source": [
    "This PCA result is very enteresting. Because the first principle component explains all of the observed variance we can assume that a linear model should be able to fit well with the data set."
   ]
  },
  {
   "cell_type": "markdown",
   "metadata": {},
   "source": [
    "## Random forest ensemble\n",
    "\n",
    "Will use the sklearn package to fit a random forest to the data set. Will remove outliers to help the model, may use machine learning, but to start will use the IQR method.IQR eliminates outliers out side of 1.5 times the inner quartile range."
   ]
  },
  {
   "cell_type": "code",
   "execution_count": 13,
   "metadata": {},
   "outputs": [
    {
     "name": "stdout",
     "output_type": "stream",
     "text": [
      "0.0392\n",
      "-0.0253\n",
      "0.0645\n",
      "0.8828247022985323\n"
     ]
    },
    {
     "data": {
      "text/html": [
       "<div>\n",
       "<style>\n",
       "    .dataframe thead tr:only-child th {\n",
       "        text-align: right;\n",
       "    }\n",
       "\n",
       "    .dataframe thead th {\n",
       "        text-align: left;\n",
       "    }\n",
       "\n",
       "    .dataframe tbody tr th {\n",
       "        vertical-align: top;\n",
       "    }\n",
       "</style>\n",
       "<table border=\"1\" class=\"dataframe\">\n",
       "  <thead>\n",
       "    <tr style=\"text-align: right;\">\n",
       "      <th></th>\n",
       "      <th>parcelid</th>\n",
       "      <th>airconditioningtypeid</th>\n",
       "      <th>architecturalstyletypeid</th>\n",
       "      <th>basementsqft</th>\n",
       "      <th>bathroomcnt</th>\n",
       "      <th>bedroomcnt</th>\n",
       "      <th>buildingclasstypeid</th>\n",
       "      <th>buildingqualitytypeid</th>\n",
       "      <th>calculatedbathnbr</th>\n",
       "      <th>decktypeid</th>\n",
       "      <th>...</th>\n",
       "      <th>numberofstories</th>\n",
       "      <th>structuretaxvaluedollarcnt</th>\n",
       "      <th>taxvaluedollarcnt</th>\n",
       "      <th>assessmentyear</th>\n",
       "      <th>landtaxvaluedollarcnt</th>\n",
       "      <th>taxamount</th>\n",
       "      <th>taxdelinquencyyear</th>\n",
       "      <th>censustractandblock</th>\n",
       "      <th>logerror</th>\n",
       "      <th>Month</th>\n",
       "    </tr>\n",
       "  </thead>\n",
       "  <tbody>\n",
       "    <tr>\n",
       "      <th>0</th>\n",
       "      <td>17073783</td>\n",
       "      <td>-1.0</td>\n",
       "      <td>-1.0</td>\n",
       "      <td>-1.0</td>\n",
       "      <td>2.5</td>\n",
       "      <td>3.0</td>\n",
       "      <td>-1.0</td>\n",
       "      <td>-1.0</td>\n",
       "      <td>2.5</td>\n",
       "      <td>-1.0</td>\n",
       "      <td>...</td>\n",
       "      <td>2.0</td>\n",
       "      <td>115087.0</td>\n",
       "      <td>191811.0</td>\n",
       "      <td>2015.0</td>\n",
       "      <td>76724.0</td>\n",
       "      <td>2015.06</td>\n",
       "      <td>-1.0</td>\n",
       "      <td>6.111002e+13</td>\n",
       "      <td>0.0953</td>\n",
       "      <td>1</td>\n",
       "    </tr>\n",
       "    <tr>\n",
       "      <th>1</th>\n",
       "      <td>17088994</td>\n",
       "      <td>-1.0</td>\n",
       "      <td>-1.0</td>\n",
       "      <td>-1.0</td>\n",
       "      <td>1.0</td>\n",
       "      <td>2.0</td>\n",
       "      <td>-1.0</td>\n",
       "      <td>-1.0</td>\n",
       "      <td>1.0</td>\n",
       "      <td>-1.0</td>\n",
       "      <td>...</td>\n",
       "      <td>1.0</td>\n",
       "      <td>143809.0</td>\n",
       "      <td>239679.0</td>\n",
       "      <td>2015.0</td>\n",
       "      <td>95870.0</td>\n",
       "      <td>2581.30</td>\n",
       "      <td>-1.0</td>\n",
       "      <td>6.111002e+13</td>\n",
       "      <td>0.0198</td>\n",
       "      <td>3</td>\n",
       "    </tr>\n",
       "    <tr>\n",
       "      <th>2</th>\n",
       "      <td>17100444</td>\n",
       "      <td>-1.0</td>\n",
       "      <td>-1.0</td>\n",
       "      <td>-1.0</td>\n",
       "      <td>2.0</td>\n",
       "      <td>3.0</td>\n",
       "      <td>-1.0</td>\n",
       "      <td>-1.0</td>\n",
       "      <td>2.0</td>\n",
       "      <td>-1.0</td>\n",
       "      <td>...</td>\n",
       "      <td>1.0</td>\n",
       "      <td>33619.0</td>\n",
       "      <td>47853.0</td>\n",
       "      <td>2015.0</td>\n",
       "      <td>14234.0</td>\n",
       "      <td>591.64</td>\n",
       "      <td>-1.0</td>\n",
       "      <td>6.111001e+13</td>\n",
       "      <td>0.0060</td>\n",
       "      <td>5</td>\n",
       "    </tr>\n",
       "    <tr>\n",
       "      <th>3</th>\n",
       "      <td>17102429</td>\n",
       "      <td>-1.0</td>\n",
       "      <td>-1.0</td>\n",
       "      <td>-1.0</td>\n",
       "      <td>1.5</td>\n",
       "      <td>2.0</td>\n",
       "      <td>-1.0</td>\n",
       "      <td>-1.0</td>\n",
       "      <td>1.5</td>\n",
       "      <td>-1.0</td>\n",
       "      <td>...</td>\n",
       "      <td>1.0</td>\n",
       "      <td>45609.0</td>\n",
       "      <td>62914.0</td>\n",
       "      <td>2015.0</td>\n",
       "      <td>17305.0</td>\n",
       "      <td>682.78</td>\n",
       "      <td>-1.0</td>\n",
       "      <td>6.111001e+13</td>\n",
       "      <td>-0.0566</td>\n",
       "      <td>6</td>\n",
       "    </tr>\n",
       "    <tr>\n",
       "      <th>4</th>\n",
       "      <td>17109604</td>\n",
       "      <td>-1.0</td>\n",
       "      <td>-1.0</td>\n",
       "      <td>-1.0</td>\n",
       "      <td>2.5</td>\n",
       "      <td>4.0</td>\n",
       "      <td>-1.0</td>\n",
       "      <td>-1.0</td>\n",
       "      <td>2.5</td>\n",
       "      <td>-1.0</td>\n",
       "      <td>...</td>\n",
       "      <td>2.0</td>\n",
       "      <td>277000.0</td>\n",
       "      <td>554000.0</td>\n",
       "      <td>2015.0</td>\n",
       "      <td>277000.0</td>\n",
       "      <td>5886.92</td>\n",
       "      <td>-1.0</td>\n",
       "      <td>6.111001e+13</td>\n",
       "      <td>0.0573</td>\n",
       "      <td>8</td>\n",
       "    </tr>\n",
       "  </tbody>\n",
       "</table>\n",
       "<p>5 rows × 55 columns</p>\n",
       "</div>"
      ],
      "text/plain": [
       "   parcelid  airconditioningtypeid  architecturalstyletypeid  basementsqft  \\\n",
       "0  17073783                   -1.0                      -1.0          -1.0   \n",
       "1  17088994                   -1.0                      -1.0          -1.0   \n",
       "2  17100444                   -1.0                      -1.0          -1.0   \n",
       "3  17102429                   -1.0                      -1.0          -1.0   \n",
       "4  17109604                   -1.0                      -1.0          -1.0   \n",
       "\n",
       "   bathroomcnt  bedroomcnt  buildingclasstypeid  buildingqualitytypeid  \\\n",
       "0          2.5         3.0                 -1.0                   -1.0   \n",
       "1          1.0         2.0                 -1.0                   -1.0   \n",
       "2          2.0         3.0                 -1.0                   -1.0   \n",
       "3          1.5         2.0                 -1.0                   -1.0   \n",
       "4          2.5         4.0                 -1.0                   -1.0   \n",
       "\n",
       "   calculatedbathnbr  decktypeid  ...    numberofstories  \\\n",
       "0                2.5        -1.0  ...                2.0   \n",
       "1                1.0        -1.0  ...                1.0   \n",
       "2                2.0        -1.0  ...                1.0   \n",
       "3                1.5        -1.0  ...                1.0   \n",
       "4                2.5        -1.0  ...                2.0   \n",
       "\n",
       "   structuretaxvaluedollarcnt  taxvaluedollarcnt  assessmentyear  \\\n",
       "0                    115087.0           191811.0          2015.0   \n",
       "1                    143809.0           239679.0          2015.0   \n",
       "2                     33619.0            47853.0          2015.0   \n",
       "3                     45609.0            62914.0          2015.0   \n",
       "4                    277000.0           554000.0          2015.0   \n",
       "\n",
       "   landtaxvaluedollarcnt  taxamount  taxdelinquencyyear  censustractandblock  \\\n",
       "0                76724.0    2015.06                -1.0         6.111002e+13   \n",
       "1                95870.0    2581.30                -1.0         6.111002e+13   \n",
       "2                14234.0     591.64                -1.0         6.111001e+13   \n",
       "3                17305.0     682.78                -1.0         6.111001e+13   \n",
       "4               277000.0    5886.92                -1.0         6.111001e+13   \n",
       "\n",
       "   logerror  Month  \n",
       "0    0.0953      1  \n",
       "1    0.0198      3  \n",
       "2    0.0060      5  \n",
       "3   -0.0566      6  \n",
       "4    0.0573      8  \n",
       "\n",
       "[5 rows x 55 columns]"
      ]
     },
     "execution_count": 13,
     "metadata": {},
     "output_type": "execute_result"
    }
   ],
   "source": [
    "Q3=pca_frame['logerror'].quantile(q=.75)\n",
    "print(Q3)\n",
    "Q1=pca_frame['logerror'].quantile(q=.25)\n",
    "print(Q1)\n",
    "IQR=Q3-Q1\n",
    "print(IQR)\n",
    "\n",
    "pca_frame=pca_frame[(pca_frame['logerror']<=Q3+1.5*IQR) & (pca_frame['logerror']>=Q1-1.5*IQR)]\n",
    "#ca_frame=pca_frame[(pca_frame['logerror']<=.4) & (pca_frame['logerror']>=-.43)]\n",
    "per_dropped=len(pca_frame)/original_set\n",
    "print(per_dropped)\n",
    "pca_frame.head(n=5)"
   ]
  },
  {
   "cell_type": "code",
   "execution_count": 14,
   "metadata": {},
   "outputs": [
    {
     "name": "stdout",
     "output_type": "stream",
     "text": [
      "64068\n",
      "15629\n"
     ]
    }
   ],
   "source": [
    "rand_data=np.random.rand(len(pca_frame))<.8\n",
    "trainset=pca_frame[rand_data]\n",
    "testset=pca_frame[~rand_data]\n",
    "print (len(trainset))\n",
    "print (len(testset))\n",
    "\n",
    "train_val=trainset['logerror']\n",
    "test_val=testset['logerror']\n",
    "\n",
    "trainset=trainset.drop('logerror',1)\n",
    "testset=testset.drop('logerror',1)\n",
    "\n",
    "trainset=trainset.drop('fireplacecnt',1) #advice from a Kaggle user\n",
    "testset=testset.drop('fireplacecnt',1)\n",
    "\n",
    "test_val=test_val.reset_index(drop=True)"
   ]
  },
  {
   "cell_type": "code",
   "execution_count": 15,
   "metadata": {
    "collapsed": true
   },
   "outputs": [],
   "source": [
    "forest_model=RandomForestRegressor(n_estimators=3000,random_state=1234)"
   ]
  },
  {
   "cell_type": "code",
   "execution_count": 16,
   "metadata": {
    "collapsed": true
   },
   "outputs": [],
   "source": [
    "forest_fit=forest_model.fit(trainset,train_val)\n",
    "fitted_vals=pd.DataFrame(forest_fit.predict(testset))"
   ]
  },
  {
   "cell_type": "markdown",
   "metadata": {},
   "source": [
    "cross validation randomized search"
   ]
  },
  {
   "cell_type": "code",
   "execution_count": 17,
   "metadata": {},
   "outputs": [
    {
     "name": "stdout",
     "output_type": "stream",
     "text": [
      "RandomizedSearchCV took 68781.48 seconds for 60 candidates parameter settings.\n",
      "Model with rank: 1\n",
      "Mean validation score: 0.036 (std: 0.003)\n",
      "Parameters: {'bootstrap': True, 'max_depth': None, 'max_features': 8, 'min_samples_leaf': 11}\n",
      "\n",
      "Model with rank: 2\n",
      "Mean validation score: 0.036 (std: 0.003)\n",
      "Parameters: {'bootstrap': True, 'max_depth': None, 'max_features': 11, 'min_samples_leaf': 11}\n",
      "\n",
      "Model with rank: 3\n",
      "Mean validation score: 0.036 (std: 0.003)\n",
      "Parameters: {'bootstrap': True, 'max_depth': None, 'max_features': 14, 'min_samples_leaf': 14}\n",
      "\n",
      "Model with rank: 4\n",
      "Mean validation score: 0.036 (std: 0.003)\n",
      "Parameters: {'bootstrap': True, 'max_depth': None, 'max_features': 19, 'min_samples_leaf': 15}\n",
      "\n",
      "Model with rank: 5\n",
      "Mean validation score: 0.035 (std: 0.002)\n",
      "Parameters: {'bootstrap': False, 'max_depth': None, 'max_features': 5, 'min_samples_leaf': 11}\n",
      "\n"
     ]
    }
   ],
   "source": [
    "def report(results, n_top=5):\n",
    "    for i in range(1, n_top + 1):\n",
    "        candidates = np.flatnonzero(results['rank_test_score'] == i)\n",
    "        for candidate in candidates:\n",
    "            print(\"Model with rank: {0}\".format(i))\n",
    "            print(\"Mean validation score: {0:.3f} (std: {1:.3f})\".format(\n",
    "                  results['mean_test_score'][candidate],\n",
    "                  results['std_test_score'][candidate]))\n",
    "            print(\"Parameters: {0}\".format(results['params'][candidate]))\n",
    "            print(\"\")\n",
    "\n",
    "\n",
    "# specify parameters and distributions to sample from\n",
    "param_dist = {\"max_depth\": [10, None],\n",
    "              \"max_features\": sp_randint(1, 20),\n",
    "              \"min_samples_leaf\": sp_randint(1, 20),\n",
    "              \"bootstrap\": [True, False],}\n",
    "\n",
    "# run randomized search\n",
    "n_iter_search = 60\n",
    "random_search = RandomizedSearchCV(forest_model, param_distributions=param_dist,\n",
    "                                   n_iter=n_iter_search)\n",
    "start = time()\n",
    "random_search.fit(trainset,train_val)\n",
    "print(\"RandomizedSearchCV took %.2f seconds for %d candidates\"\n",
    "      \" parameter settings.\" % ((time() - start), n_iter_search))\n",
    "report(random_search.cv_results_)"
   ]
  },
  {
   "cell_type": "code",
   "execution_count": 18,
   "metadata": {
    "collapsed": true
   },
   "outputs": [],
   "source": [
    "fitted_vals['actuals']=test_val\n",
    "fitted_vals.columns=['predicted','actuals']"
   ]
  },
  {
   "cell_type": "code",
   "execution_count": 19,
   "metadata": {},
   "outputs": [
    {
     "name": "stdout",
     "output_type": "stream",
     "text": [
      "15629\n",
      "15629\n",
      "   predicted  actuals\n",
      "0  -0.002708   0.0953\n",
      "1  -0.002536   0.0198\n",
      "2   0.006052  -0.0576\n",
      "3   0.010602  -0.0294\n",
      "4  -0.001386   0.0611\n"
     ]
    }
   ],
   "source": [
    "print (len(fitted_vals))\n",
    "print (len(test_val))\n",
    "print(fitted_vals.head())"
   ]
  },
  {
   "cell_type": "code",
   "execution_count": 20,
   "metadata": {},
   "outputs": [
    {
     "name": "stdout",
     "output_type": "stream",
     "text": [
      "0.03466936156898614\n"
     ]
    },
    {
     "data": {
      "image/png": "[encoded data removed]",
      "text/plain": [
       "<matplotlib.figure.Figure at 0x26967710f28>"
      ]
     },
     "metadata": {},
     "output_type": "display_data"
    }
   ],
   "source": [
    "fitted_vals.plot(x='predicted',y='actuals',kind='scatter')\n",
    "fitted_vals['error']=abs(fitted_vals['predicted']-fitted_vals['actuals'])\n",
    "abse1=fitted_vals['error'].mean()\n",
    "print (abse1)"
   ]
  },
  {
   "cell_type": "markdown",
   "metadata": {},
   "source": [
    "## First attempt evaluation\n",
    "\n",
    "From a visual inspection of the data it appears that for the features used, outliers may have played an important role in skewing the model's performance. There could also be problems with some of the location based variables or others being highly correlated. Next highly correlated features will be removed"
   ]
  },
  {
   "cell_type": "code",
   "execution_count": null,
   "metadata": {
    "collapsed": true
   },
   "outputs": [],
   "source": [
    "fit_minus_large_miss = fitted_vals[np.absolute(fitted_vals['predicted']-fitted_vals['actuals'])<=.5]\n",
    "fit_minus_large_miss.plot(x='predicted',y='actuals',kind='scatter')"
   ]
  },
  {
   "cell_type": "markdown",
   "metadata": {},
   "source": [
    "## Remove correlated features\n",
    "\n",
    "While this was interesting, it is not used in the submitted model."
   ]
  },
  {
   "cell_type": "code",
   "execution_count": 13,
   "metadata": {},
   "outputs": [
    {
     "data": {
      "text/plain": [
       "<matplotlib.image.AxesImage at 0x218868d1160>"
      ]
     },
     "execution_count": 13,
     "metadata": {},
     "output_type": "execute_result"
    },
    {
     "data": {
      "image/png": "[encoded data removed]",
      "text/plain": [
       "<matplotlib.figure.Figure at 0x21881a38438>"
      ]
     },
     "metadata": {},
     "output_type": "display_data"
    }
   ],
   "source": [
    "#only need absolute correlation\n",
    "pd.set_option('display.max_colwidth', -1)\n",
    "pd.options.display.max_columns = 2000\n",
    "corr_matrix=pca_frame.corr().abs()\n",
    "plt.matshow(corr_matrix)"
   ]
  },
  {
   "cell_type": "markdown",
   "metadata": {},
   "source": [
    "Because some of the features have no variation they will be droped, this are things such as year, since all observations are from the same year"
   ]
  },
  {
   "cell_type": "code",
   "execution_count": 14,
   "metadata": {},
   "outputs": [
    {
     "name": "stderr",
     "output_type": "stream",
     "text": [
      "C:\\ProgramData\\Anaconda5\\lib\\site-packages\\ipykernel_launcher.py:1: DeprecationWarning: \n",
      ".ix is deprecated. Please use\n",
      ".loc for label based indexing or\n",
      ".iloc for positional indexing\n",
      "\n",
      "See the documentation here:\n",
      "http://pandas.pydata.org/pandas-docs/stable/indexing.html#deprecate_ix\n",
      "  \"\"\"Entry point for launching an IPython kernel.\n"
     ]
    },
    {
     "data": {
      "text/plain": [
       "<matplotlib.image.AxesImage at 0x2188196bda0>"
      ]
     },
     "execution_count": 14,
     "metadata": {},
     "output_type": "execute_result"
    },
    {
     "data": {
      "image/png": "[encoded data removed]",
      "text/plain": [
       "<matplotlib.figure.Figure at 0x218fd4da668>"
      ]
     },
     "metadata": {},
     "output_type": "display_data"
    }
   ],
   "source": [
    "new_frame=pca_frame.loc[:, (pca_frame != pca_frame.ix[0]).any()] \n",
    "corr_matrix_2=new_frame.corr().abs()\n",
    "plt.matshow(corr_matrix_2)"
   ]
  },
  {
   "cell_type": "markdown",
   "metadata": {},
   "source": [
    "From this output we can see that some of the features have high correlation, the first of the highly correlated feature will be kept with the others dropped. What is concerning in this model is that the response value of the log error which is the value the model is attempting to predict is not correlated to any of the predictor values."
   ]
  },
  {
   "cell_type": "code",
   "execution_count": 15,
   "metadata": {},
   "outputs": [
    {
     "data": {
      "text/plain": [
       "parcelid                        0.004837\n",
       "airconditioningtypeid           0.006268\n",
       "architecturalstyletypeid        0.001640\n",
       "basementsqft                    0.009018\n",
       "bathroomcnt                     0.027889\n",
       "bedroomcnt                      0.025467\n",
       "buildingclasstypeid             0.004824\n",
       "buildingqualitytypeid           0.005069\n",
       "calculatedbathnbr               0.027303\n",
       "decktypeid                      0.000827\n",
       "finishedfloor1squarefeet        0.012481\n",
       "calculatedfinishedsquarefeet    0.039011\n",
       "finishedsquarefeet12            0.039555\n",
       "finishedsquarefeet13            0.003696\n",
       "finishedsquarefeet15            0.000051\n",
       "finishedsquarefeet50            0.012183\n",
       "finishedsquarefeet6             0.010002\n",
       "fips                            0.008363\n",
       "fireplacecnt                    0.006357\n",
       "fullbathcnt                     0.026777\n",
       "garagecarcnt                    0.004616\n",
       "garagetotalsqft                 0.008891\n",
       "heatingorsystemtypeid           0.017002\n",
       "latitude                        0.004915\n",
       "longitude                       0.003432\n",
       "lotsizesquarefeet               0.005357\n",
       "poolcnt                         0.008983\n",
       "poolsizesum                     0.001899\n",
       "pooltypeid10                    0.003391\n",
       "pooltypeid2                     0.003881\n",
       "pooltypeid7                     0.008078\n",
       "propertylandusetypeid           0.001003\n",
       "rawcensustractandblock          0.008376\n",
       "regionidcity                    0.002474\n",
       "regionidcounty                  0.000341\n",
       "regionidneighborhood            0.006474\n",
       "regionidzip                     0.007001\n",
       "roomcnt                         0.005760\n",
       "storytypeid                     0.006966\n",
       "threequarterbathnbr             0.004943\n",
       "typeconstructiontypeid          0.001779\n",
       "unitcnt                         0.002802\n",
       "yardbuildingsqft17              0.002508\n",
       "yardbuildingsqft26              0.000853\n",
       "yearbuilt                       0.004637\n",
       "numberofstories                 0.004215\n",
       "structuretaxvaluedollarcnt      0.023141\n",
       "taxvaluedollarcnt               0.006526\n",
       "landtaxvaluedollarcnt           0.003036\n",
       "taxamount                       0.006670\n",
       "taxdelinquencyyear              0.018187\n",
       "censustractandblock             0.017309\n",
       "logerror                        1.000000\n",
       "Month                           0.006421\n",
       "Name: logerror, dtype: float64"
      ]
     },
     "execution_count": 15,
     "metadata": {},
     "output_type": "execute_result"
    }
   ],
   "source": [
    "corr_matrix_2['logerror']"
   ]
  },
  {
   "cell_type": "markdown",
   "metadata": {},
   "source": [
    "Next using recursive feature elimination the model will be re run, this will allow machine learning to select the best features. To begin I will use the top 10 features.\n",
    "\n"
   ]
  },
  {
   "cell_type": "code",
   "execution_count": null,
   "metadata": {
    "collapsed": true
   },
   "outputs": [],
   "source": [
    "rfe=RFE(forest_model,10)\n",
    "rfe = rfe.fit(trainset,train_val)\n",
    "print(rfe.support_)\n",
    "print(rfe.ranking_)"
   ]
  },
  {
   "cell_type": "code",
   "execution_count": null,
   "metadata": {
    "collapsed": true
   },
   "outputs": [],
   "source": [
    "rfe_cols=list(trainset.columns[rfe.ranking_==1])\n",
    "rfe_cols"
   ]
  },
  {
   "cell_type": "markdown",
   "metadata": {},
   "source": [
    "From the RFE we now have the values most impactful, which from a primitative understanding of realestate make sense, as they have to do with the size, location, and tax value of the property. Now the model will be rerun with this reduced feature set."
   ]
  },
  {
   "cell_type": "code",
   "execution_count": null,
   "metadata": {
    "collapsed": true
   },
   "outputs": [],
   "source": [
    "rfe_frame=pca_frame[rfe_cols]\n",
    "trainset=rfe_frame[rand_data]\n",
    "testset=rfe_frame[~rand_data]\n",
    "forest_fit_rfe=forest_model.fit(trainset,train_val)\n",
    "fitted_vals=pd.DataFrame(forest_fit_rfe.predict(testset))"
   ]
  },
  {
   "cell_type": "code",
   "execution_count": null,
   "metadata": {
    "collapsed": true
   },
   "outputs": [],
   "source": [
    "fitted_vals['actuals']=test_val\n",
    "fitted_vals.columns=['predicted','actuals']\n",
    "fitted_vals.plot(x='predicted',y='actuals',kind='scatter')\n",
    "fitted_vals['error']=abs(fitted_vals['predicted']-fitted_vals['actuals'])\n",
    "abse2=fitted_vals['error'].mean()\n",
    "print (abse2)"
   ]
  },
  {
   "cell_type": "markdown",
   "metadata": {},
   "source": [
    "Reducing the number of features did not improve the model, this would suggest that either too many features were removed or that even lesser features are critical to the success of the model. "
   ]
  },
  {
   "cell_type": "code",
   "execution_count": null,
   "metadata": {
    "collapsed": true
   },
   "outputs": [],
   "source": [
    "print (datetime.now() - startTime)"
   ]
  },
  {
   "cell_type": "code",
   "execution_count": null,
   "metadata": {
    "collapsed": true
   },
   "outputs": [],
   "source": [
    "print('Best set so far ABSME =: %s' % (min(abse1,abse2)))"
   ]
  },
  {
   "cell_type": "markdown",
   "metadata": {},
   "source": [
    "# Kaggle Competition\n",
    "Lines below this are for specifically creating data for the kaggle competion, it will create an output file used to predict the sale price of each home in each month of Q4 for both 2016 and 2017   \n",
    "At the time of writing this, the current ABSME winning values are approximately 0.064.\n",
    "There will be repeated code as the data set will use all available values for traing (minus outliers) and trained on the full properties set"
   ]
  },
  {
   "cell_type": "code",
   "execution_count": 21,
   "metadata": {
    "collapsed": true
   },
   "outputs": [],
   "source": [
    "comp_properties=raw_properties\n",
    "comp_id=raw_properties['parcelid']\n",
    "#comp_properties=raw_properties.dropna(thresh=.1*len(raw_properties_combined),axis=1)\n",
    "comp_properties=comp_properties.select_dtypes(include=[np.number])\n",
    "comp_properties=comp_properties.apply(lambda x: x.fillna(-1),axis=0)\n",
    "\n",
    "\n",
    "trainset_sub=pca_frame\n",
    "trainset_sub=trainset_sub.drop('logerror',1)\n",
    "train_val_sub=pca_frame['logerror']\n",
    "#comp_properties=comp_properties[list(trainset_sub.columns)]"
   ]
  },
  {
   "cell_type": "code",
   "execution_count": 22,
   "metadata": {
    "collapsed": true
   },
   "outputs": [],
   "source": [
    "forest_model_submit=RandomForestRegressor(n_estimators=3000,\n",
    "                                         bootstrap= True,\n",
    "                                         max_depth= None,\n",
    "                                         max_features= 8,\n",
    "                                         min_samples_leaf= 11)\n",
    "\n",
    "forest_fit_sub=forest_model_submit.fit(trainset_sub,train_val_sub)\n",
    "\n",
    "#october\n",
    "comp_properties['month']=10\n",
    "fitted_vals_comp=pd.DataFrame(forest_fit_sub.predict(comp_properties))\n",
    "fitted_vals_comp.columns=['201610']\n",
    "\n",
    "#November\n",
    "comp_properties['month']=11\n",
    "november=pd.DataFrame(forest_fit_sub.predict(comp_properties))\n",
    "#December\n",
    "comp_properties['month']=12\n",
    "december=pd.DataFrame(forest_fit_sub.predict(comp_properties))"
   ]
  },
  {
   "cell_type": "code",
   "execution_count": 23,
   "metadata": {
    "collapsed": true
   },
   "outputs": [],
   "source": [
    "submit_frame=pd.concat([raw_properties['parcelid'],fitted_vals_comp],axis=1)"
   ]
  },
  {
   "cell_type": "code",
   "execution_count": 24,
   "metadata": {},
   "outputs": [
    {
     "data": {
      "text/plain": [
       "['parcelid', '201610', '201611', '201612', '201710', '201711', '201712']"
      ]
     },
     "execution_count": 24,
     "metadata": {},
     "output_type": "execute_result"
    }
   ],
   "source": [
    "submit_frame['201611']=november\n",
    "submit_frame['201612']=december\n",
    "submit_frame['201710']=fitted_vals_comp\n",
    "submit_frame['201711']=november\n",
    "submit_frame['201712']=december\n",
    "list(submit_frame.columns.values)"
   ]
  },
  {
   "cell_type": "code",
   "execution_count": 25,
   "metadata": {
    "collapsed": true
   },
   "outputs": [],
   "source": [
    "submit_frame.to_csv(\"C:/Users/Will/Documents/Regis/MSDS692/submission.csv\",index=False, float_format='%.4f')"
   ]
  },
  {
   "cell_type": "markdown",
   "metadata": {},
   "source": [
    "## Competition evaluation\n",
    "\n",
    "current score: 0.0646174\n",
    "bronze score <.0644  \n",
    "Top place .0641376  \n",
    "local mae to beat .0307027"
   ]
  },
  {
   "cell_type": "code",
   "execution_count": 1,
   "metadata": {},
   "outputs": [
    {
     "data": {
      "text/plain": [
       "1.1591445563680982"
      ]
     },
     "execution_count": 1,
     "metadata": {},
     "output_type": "execute_result"
    }
   ],
   "source": [
    "10**.0641376"
   ]
  },
  {
   "cell_type": "code",
   "execution_count": 169,
   "metadata": {
    "collapsed": true
   },
   "outputs": [],
   "source": [
    "topmodel=forest_fit_sub"
   ]
  }
 ],
 "metadata": {
  "kernelspec": {
   "display_name": "Python 3",
   "language": "python",
   "name": "python3"
  },
  "language_info": {
   "codemirror_mode": {
    "name": "ipython",
    "version": 3
   },
   "file_extension": ".py",
   "mimetype": "text/x-python",
   "name": "python",
   "nbconvert_exporter": "python",
   "pygments_lexer": "ipython3",
   "version": "3.6.1"
  }
 },
 "nbformat": 4,
 "nbformat_minor": 2
}
